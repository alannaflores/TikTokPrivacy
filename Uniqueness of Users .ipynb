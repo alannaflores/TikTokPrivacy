{
 "cells": [
  {
   "cell_type": "markdown",
   "metadata": {
    "toc": true
   },
   "source": [
    "<h1>Table of Contents<span class=\"tocSkip\"></span></h1>\n",
    "<div class=\"toc\"><ul class=\"toc-item\"></ul></div>"
   ]
  },
  {
   "cell_type": "code",
   "execution_count": 22,
   "metadata": {},
   "outputs": [],
   "source": [
    "import geocoder\n",
    "from scipy.stats import norm\n",
    "import requests, zipfile, io, os\n",
    "import datetime as dt\n",
    "import pandas as pd\n",
    "import numpy as np\n",
    "import seaborn as sns\n",
    "import sys, typing\n",
    "from bs4 import BeautifulSoup\n",
    "import requests\n",
    "from matplotlib import pyplot as plt\n",
    "import matplotlib.image as mpimg\n",
    "import matplotlib.dates as mdates\n",
    "from typing import List, Tuple\n",
    "r = requests.get('https://www.ssa.gov/oact/babynames/names.zip')\n",
    "z = zipfile.ZipFile(io.BytesIO(r.content))\n",
    "z.extractall(\"names\")"
   ]
  },
  {
   "cell_type": "code",
   "execution_count": 8,
   "metadata": {},
   "outputs": [],
   "source": [
    "# Import dataset of users with age, profession, height, location, and gender \n",
    "placeholder_dict = {\"Name\": \"Sofia\", \"Age\": \"24\", \"Profession\":\"Teacher\", \"Height\":\"5'2\", \"Location\":\"Las Vegas\", \"Gender\":\"F\"}"
   ]
  },
  {
   "cell_type": "code",
   "execution_count": 33,
   "metadata": {},
   "outputs": [],
   "source": [
    "import qwikidata\n",
    "import qwikidata.sparql\n",
    "\n",
    "def get_city_wikidata(city, country):\n",
    "    query = \"\"\"\n",
    "    SELECT ?city ?cityLabel ?country ?countryLabel ?population\n",
    "    WHERE\n",
    "    {\n",
    "      ?city rdfs:label '%s'@en.\n",
    "      ?city wdt:P1082 ?population.\n",
    "      ?city wdt:P17 ?country.\n",
    "      ?city rdfs:label ?cityLabel.\n",
    "      ?country rdfs:label ?countryLabel.\n",
    "      FILTER(LANG(?cityLabel) = \"en\").\n",
    "      FILTER(LANG(?countryLabel) = \"en\").\n",
    "      FILTER(CONTAINS(?countryLabel, \"%s\")).\n",
    "    }\n",
    "    \"\"\" % (city, country)\n",
    "\n",
    "    res = qwikidata.sparql.return_sparql_query_results(query)\n",
    "    out = res['results']['bindings'][0]\n",
    "    return out"
   ]
  },
  {
   "cell_type": "code",
   "execution_count": 49,
   "metadata": {},
   "outputs": [
    {
     "name": "stdout",
     "output_type": "stream",
     "text": [
      "648224\n"
     ]
    }
   ],
   "source": [
    "# Location\n",
    "g = get_city_wikidata(placeholder_dict[\"Location\"], 'America')\n",
    "# Obtain the number of people in that location as a baseline for uniqueness \n",
    "num_unique = int(g['population']['value'])\n",
    "print(num_unique)"
   ]
  },
  {
   "cell_type": "code",
   "execution_count": 51,
   "metadata": {},
   "outputs": [
    {
     "name": "stdout",
     "output_type": "stream",
     "text": [
      "0.00031736633363768993\n"
     ]
    }
   ],
   "source": [
    "# First Name, Age\n",
    "# Assumes that videos are posted this year for age\n",
    "# Assumes location is in the US and area follows normal distribution for ages in the US \n",
    "# Use problem set one to set the probability that someone with their name and gender would be there age \n",
    "\n",
    "\n",
    "def create_name_popularity_df(name_list: List[str], sex: str) -> pd.DataFrame:\n",
    "    # Formats and extracts for each year the amount of people born with a particular name.\n",
    "    # INPUT\n",
    "    #   name_list : list of names. They must be of the same gender\n",
    "    #   sex : 'F' for Female, 'M' for Male. \n",
    "    # OUTPUT\n",
    "    #   names_df: pandas DataFrame indexed by year with names for columns\n",
    "    names_df = pd.DataFrame()\n",
    "    for year in range(1900, 2021):\n",
    "        year_table = pd.read_csv(\"names/yob%s.txt\" % str(year),sep=',',header=None,names=['name','sex','n'])\n",
    "        year_table = year_table[year_table['name'].isin(name_list)]\n",
    "        year_table = year_table[year_table['sex']==sex]\n",
    "        if year_table.shape[0]==0:\n",
    "            year_table['name']=name_list\n",
    "        year_table['year'] = year\n",
    "        names_df = names_df.append(year_table)\n",
    "    names_df = names_df.pivot(index='year', columns='name', values='n')\n",
    "    names_df = names_df.fillna(0)\n",
    "    return names_df\n",
    "\n",
    "def get_actuarial_table(year: int, sex: str) -> List[float]:\n",
    "    # Returns a list of probabilities where entry x means the probability of being alive at time 'year+x' conditional\n",
    "    # on being born at time 'year'. The list has 121 entries.\n",
    "    # INPUT\n",
    "    #   year : year of birth\n",
    "    #   sex : 'F' for Female, 'M' for Male.\n",
    "    # OUTPUT\n",
    "    #   survival_probability : probability of surviving x years at entry x.\n",
    "    if sex == \"M\":\n",
    "        sex_col = 2\n",
    "    elif sex == \"F\":\n",
    "        sex_col = 10\n",
    "    else:\n",
    "        print(\"sex should be either M or F\")\n",
    "        sys.exit()\n",
    "    table_page = requests.get(\"https://www.ssa.gov/oact/NOTES/as120/LifeTables_Tbl_7_%s.html\" % year)\n",
    "    soup = BeautifulSoup(table_page.content, 'html.parser')\n",
    "    table = soup.find_all(\"tr\")[6:]\n",
    "    survival_probability = []\n",
    "    for row in table:\n",
    "        col = row.find_all('td')\n",
    "        if len(col)>6:\n",
    "            cell = col[sex_col].find('div')\n",
    "        if cell is not None:\n",
    "            survival_probability.append(float(cell.get_text().strip('\\n').replace(',',''))/100000.0)\n",
    "    return survival_probability\n",
    "\n",
    "df = create_name_popularity_df([placeholder_dict[\"Name\"]], placeholder_dict[\"Gender\"])\n",
    "year_born = 2020-int(placeholder_dict[\"Age\"])\n",
    "number_of_person_with_name_age = df.loc[df.index == year_born][\"Sofia\"].iloc[0]\n",
    "US_pop = 329500000\n",
    "\n",
    "# Assumes age and name distribution are consistent everywhere \n",
    "p = number_of_person_with_name/US_pop\n",
    "num_unique = p*num_unique\n",
    "print(num_unique)\n"
   ]
  },
  {
   "cell_type": "code",
   "execution_count": null,
   "metadata": {},
   "outputs": [],
   "source": [
    "# Profession\n",
    "# Height"
   ]
  },
  {
   "cell_type": "code",
   "execution_count": null,
   "metadata": {},
   "outputs": [],
   "source": []
  }
 ],
 "metadata": {
  "kernelspec": {
   "display_name": "Python 3",
   "language": "python",
   "name": "python3"
  },
  "language_info": {
   "codemirror_mode": {
    "name": "ipython",
    "version": 3
   },
   "file_extension": ".py",
   "mimetype": "text/x-python",
   "name": "python",
   "nbconvert_exporter": "python",
   "pygments_lexer": "ipython3",
   "version": "3.8.7"
  },
  "toc": {
   "base_numbering": 1,
   "nav_menu": {},
   "number_sections": true,
   "sideBar": true,
   "skip_h1_title": false,
   "title_cell": "Table of Contents",
   "title_sidebar": "Contents",
   "toc_cell": true,
   "toc_position": {},
   "toc_section_display": true,
   "toc_window_display": true
  }
 },
 "nbformat": 4,
 "nbformat_minor": 4
}
