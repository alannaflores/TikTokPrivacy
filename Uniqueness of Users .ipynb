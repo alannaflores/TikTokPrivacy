{
 "cells": [
  {
   "cell_type": "markdown",
   "metadata": {
    "toc": true
   },
   "source": [
    "<h1>Table of Contents<span class=\"tocSkip\"></span></h1>\n",
    "<div class=\"toc\"><ul class=\"toc-item\"></ul></div>"
   ]
  },
  {
   "cell_type": "code",
   "execution_count": 1,
   "metadata": {},
   "outputs": [],
   "source": [
    "import geocoder\n",
    "import pandas as pd\n",
    "import numpy as np"
   ]
  },
  {
   "cell_type": "code",
   "execution_count": 5,
   "metadata": {},
   "outputs": [],
   "source": [
    "# Import dataset of users with age, profession, height, location, and gender \n",
    "placeholder_dict = {\"name\": \"Sofia\", \"Age\": \"24\", \"Profession\":\"Teacher\", \"Height\":\"5'2\", \"Location\":\"Las Vegas\", \"Gender\":\"Female\"}"
   ]
  },
  {
   "cell_type": "code",
   "execution_count": 6,
   "metadata": {},
   "outputs": [],
   "source": [
    "import qwikidata\n",
    "import qwikidata.sparql\n",
    "\n",
    "def get_city_wikidata(city, country):\n",
    "    query = \"\"\"\n",
    "    SELECT ?city ?cityLabel ?country ?countryLabel ?population\n",
    "    WHERE\n",
    "    {\n",
    "      ?city rdfs:label '%s'@en.\n",
    "      ?city wdt:P1082 ?population.\n",
    "      ?city wdt:P17 ?country.\n",
    "      ?city rdfs:label ?cityLabel.\n",
    "      ?country rdfs:label ?countryLabel.\n",
    "      FILTER(LANG(?cityLabel) = \"en\").\n",
    "      FILTER(LANG(?countryLabel) = \"en\").\n",
    "      FILTER(CONTAINS(?countryLabel, \"%s\")).\n",
    "    }\n",
    "    \"\"\" % (city, country)\n",
    "\n",
    "    res = qwikidata.sparql.return_sparql_query_results(query)\n",
    "    out = res['results']['bindings'][0]\n",
    "    return out"
   ]
  },
  {
   "cell_type": "code",
   "execution_count": 11,
   "metadata": {},
   "outputs": [
    {
     "name": "stdout",
     "output_type": "stream",
     "text": [
      "648224\n"
     ]
    }
   ],
   "source": [
    "# Location\n",
    "g = get_city_wikidata(placeholder_dict[\"Location\"], 'America')\n",
    "# Obtain the number of people in that location as a baseline for uniqueness \n",
    "num_unique = int(g['population']['value'])\n",
    "print(num_unique)\n",
    "\n",
    "# Age\n",
    "# Assumes that videos are posted this year for age\n",
    "# Assumes location is in the US and area follows normal distribution for ages in the US \n",
    "# Use PSET #1\n",
    "\n",
    "# Profession\n",
    "# Height\n",
    "# Gender\n"
   ]
  },
  {
   "cell_type": "code",
   "execution_count": null,
   "metadata": {},
   "outputs": [],
   "source": []
  }
 ],
 "metadata": {
  "kernelspec": {
   "display_name": "Python 3",
   "language": "python",
   "name": "python3"
  },
  "language_info": {
   "codemirror_mode": {
    "name": "ipython",
    "version": 3
   },
   "file_extension": ".py",
   "mimetype": "text/x-python",
   "name": "python",
   "nbconvert_exporter": "python",
   "pygments_lexer": "ipython3",
   "version": "3.8.7"
  },
  "toc": {
   "base_numbering": 1,
   "nav_menu": {},
   "number_sections": true,
   "sideBar": true,
   "skip_h1_title": false,
   "title_cell": "Table of Contents",
   "title_sidebar": "Contents",
   "toc_cell": true,
   "toc_position": {},
   "toc_section_display": true,
   "toc_window_display": true
  }
 },
 "nbformat": 4,
 "nbformat_minor": 4
}
